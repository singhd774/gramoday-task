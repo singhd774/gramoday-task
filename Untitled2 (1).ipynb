{
 "cells": [
  {
   "cell_type": "code",
   "execution_count": 10,
   "metadata": {},
   "outputs": [],
   "source": [
    "import requests\n",
    "import urllib.request\n",
    "import time\n",
    "from bs4 import BeautifulSoup\n",
    "\n",
    "# as the data for 2020 was checked on website , it came in multiple pages but the links does changes , it can be done by running a loop over list of links of each date\n",
    "# this can be done as \n",
    "# URL =[] ,\n",
    "# for url in range(0,365):\n",
    "\n",
    "url = 'https://agmarknet.gov.in/SearchCmmMkt.aspx?Tx_Commodity=24&Tx_State=UP&Tx_District=1&Tx_Market=0&DateFrom=01-Jan-2020&DateTo=31-Jan-2020&Fr_Date=01-Jan%022020&To_Date=31-Jan%022020&Tx_Trend=0&Tx_CommodityHead=Potato&Tx_StateHead=Uttar+Pradesh&Tx_DistrictHead=Agra&Tx_MarketHead=--Select--'\n",
    "response = requests.get(url)\n",
    "soup = BeautifulSoup(response.content,'html.parser')\n",
    "sp=soup.findAll('table')\n",
    "sp=sp[0]\n",
    "ls=sp.findAll('tr')\n",
    "table_data = []\n",
    "i=0\n",
    "\n",
    "for tr in ls: # find all tr's from table's tbody\n",
    "    t_row = []\n",
    "\n",
    "    for td in tr.find_all(\"td\"): \n",
    "        t_row.append(td.text.replace('\\n', '').strip())\n",
    "    table_data.append(t_row)\n",
    "table_data=table_data[1:]\n",
    "import csv\n",
    "\n",
    "for i in table_data:\n",
    "    with open(\"Agr.csv\", 'a') as out_file:\n",
    "        writer = csv.writer(out_file, delimiter=',', quoting=csv.QUOTE_MINIMAL)\n",
    "    \n",
    "        writer.writerow(i)"
   ]
  },
  {
   "cell_type": "code",
   "execution_count": null,
   "metadata": {},
   "outputs": [],
   "source": []
  },
  {
   "cell_type": "code",
   "execution_count": null,
   "metadata": {},
   "outputs": [],
   "source": []
  }
 ],
 "metadata": {
  "kernelspec": {
   "display_name": "Python 3",
   "language": "python",
   "name": "python3"
  },
  "language_info": {
   "codemirror_mode": {
    "name": "ipython",
    "version": 3
   },
   "file_extension": ".py",
   "mimetype": "text/x-python",
   "name": "python",
   "nbconvert_exporter": "python",
   "pygments_lexer": "ipython3",
   "version": "3.8.5"
  }
 },
 "nbformat": 4,
 "nbformat_minor": 4
}
